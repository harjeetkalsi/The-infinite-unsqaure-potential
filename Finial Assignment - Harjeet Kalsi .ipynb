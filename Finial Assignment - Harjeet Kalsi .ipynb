{
 "cells": [
  {
   "cell_type": "markdown",
   "metadata": {},
   "source": [
    "#The infinite \"unsqaure\" potential\n",
    "Author: Harjeet Kalsi   \n",
    "last eddited: 04/03/16\n",
    "\n",
    "Solving the quantum-mechanical problems. "
   ]
  },
  {
   "cell_type": "markdown",
   "metadata": {},
   "source": [
    "This notebook looks at boundary values in sloving differential equations and will first solve for an infinte square potenital well. It will the be possible to extend this to calculate for systems where there is no simple analytical solution. "
   ]
  },
  {
   "cell_type": "markdown",
   "metadata": {},
   "source": [
    "The task involves applying knowlegde of boundary value problems to the one-dimentional time-independent Schrodinger equation (TISE): \n",
    "$$\n",
    "-\\frac{\\hbar^2}{2m} \\frac{d^2\\psi}{dx^2} + V(x)\\psi(x) = E\\psi(x)\n",
    "$$"
   ]
  },
  {
   "cell_type": "markdown",
   "metadata": {},
   "source": [
    "Over the course of this notebook we will look at different functions of potenital and try to solve for solutions. We will look at, the infinite square well potential, a harmonic potenital within an infinte sqaure well, a finite sqaure well potential and then I will try  my own choice of potenital( a rectangular barrier potential.) "
   ]
  },
  {
   "cell_type": "markdown",
   "metadata": {},
   "source": [
    "###Infinite square well potential"
   ]
  },
  {
   "cell_type": "markdown",
   "metadata": {},
   "source": [
    "Initially going to consider the solutions of the TISE for a particle in a square well of width 2a with infintely high walls. The potential for this situation takes the form: $$ V_x = \\begin{cases} 0 & \\text{if } -a < x < +a, \\\\ \n",
    "\\infty  & \\text{if } |x| > a, \\end{cases} \n",
    "$$"
   ]
  },
  {
   "cell_type": "markdown",
   "metadata": {},
   "source": [
    "The solutions show that the probability of finding the particle in the region where $$ V(x)= \\infty $$ is zero, and thus the wavefunction must be subject to the boundary condition of $$\\psi=0$$ at x=a and x=-a\n"
   ]
  },
  {
   "cell_type": "markdown",
   "metadata": {},
   "source": [
    "Seperating out the TISE into 2 1st order equations we get: $$\n",
    "(1)     \\frac{d \\psi}{dx } = \\phi, \\\\               \n",
    "(2)     \\frac{d \\phi}{dx } = \\frac{2m}{\\hbar^2} \\left[V(x) - E \\right] \\psi(x),\n",
    "$$                     "
   ]
  },
  {
   "cell_type": "markdown",
   "metadata": {},
   "source": [
    "The schrodinger equation is a linear equation and is also defined as an eigenvalue equation, therefore only has solutions at particular values of the energy E. \n",
    "The approach adopted for this problem therefore will search for intial values of E that will give us the required solutions. \n",
    "As the only effect of $$\\phi's$$ initial condition is to multipy the wavefunction by a constant, any starting value of E may be chosen. The wavefunction can be normalised once we have found the solution. "
   ]
  },
  {
   "cell_type": "markdown",
   "metadata": {},
   "source": [
    "####Finding the ground state energy"
   ]
  },
  {
   "cell_type": "markdown",
   "metadata": {},
   "source": [
    "First need to import mathematical functions and plotting tools which will be used throughout the notebook:"
   ]
  },
  {
   "cell_type": "code",
   "execution_count": 114,
   "metadata": {
    "collapsed": true
   },
   "outputs": [],
   "source": [
    "# importing modules\n",
    "import numpy as np\n",
    "\n",
    "import matplotlib.pyplot as plt\n",
    "%matplotlib inline\n"
   ]
  },
  {
   "cell_type": "markdown",
   "metadata": {},
   "source": [
    "Also need to define some parameters that we will also be using throughout the calculations: "
   ]
  },
  {
   "cell_type": "code",
   "execution_count": 115,
   "metadata": {
    "collapsed": false
   },
   "outputs": [],
   "source": [
    "#defining physical constants \n",
    "m= 9.1094*(10**-31)           #electron mass\n",
    "hbar= 1.0546*(10**-34)           \n",
    "e= 1.6022*(10**-19)         #electron charge \n",
    "\n",
    "#defining other parameters\n",
    "a= 5.0*(10**-11)              #half width of the potential well "
   ]
  },
  {
   "cell_type": "markdown",
   "metadata": {},
   "source": [
    "For the potential we have defined above, the particle will never be outside the well and  V (x) = 0 inside the well. Later in the task other forms of V (x) will be calculated. A function will be written for this V(x) that return a value of\n",
    "V (x) = 0 for all values of x, the function input1: "
   ]
  },
  {
   "cell_type": "code",
   "execution_count": 116,
   "metadata": {
    "collapsed": false
   },
   "outputs": [],
   "source": [
    "#producing a function for V(x)\n",
    "def V(x):\n",
    "    '''Produces a value of V=0 for all values of x inputed'''\n",
    "    \n",
    "    if -np.inf<=x<=np.inf:  #for the values where x is between minus infinity         \n",
    "             V=0.0            #and infinity the potenital will be zero\n",
    "   \n",
    "    return V "
   ]
  },
  {
   "cell_type": "markdown",
   "metadata": {
    "collapsed": true
   },
   "source": [
    "The Schrodinger equation was split into 2 frist order equations (1) and (2) as defined above. It is necessary to write functions that calulate the right hand side of these equations: "
   ]
  },
  {
   "cell_type": "code",
   "execution_count": 117,
   "metadata": {
    "collapsed": true
   },
   "outputs": [],
   "source": [
    "#creating a function for the rhs of the equations (1) and (2)\n",
    "def f(r,x,E):\n",
    "    ''' Definition of our numerical function\n",
    "    Inputs:\n",
    "    r: vector where 1st element represnts psi and the 2nd phi \n",
    "    x: value of x at which to evaulate the function\n",
    "    E: energy value at which the function is evaluated\n",
    "    Outputs:\n",
    "    f(psi,phi): returns 2 arrays, one for each rhs of the equation '''\n",
    "    psi= r[0]  \n",
    "    phi=r[1]\n",
    "    f1=phi    # dψ/dt = φ\n",
    "    f2=((2*m)/(hbar**2))*(V(x)-E)*psi #dφ/dt = 2m/ћ^2[V(x)-E]ψ(x)\n",
    "    return  np.array([f1,f2], float) #returns the 2 rhs of the equations \n"
   ]
  },
  {
   "cell_type": "markdown",
   "metadata": {},
   "source": [
    "The Runge Kutta function will be used in its fourth-order form, to return an array of the wavefunction values psi(x) : "
   ]
  },
  {
   "cell_type": "markdown",
   "metadata": {},
   "source": [
    "First some inital conditions will be defined and an array of xpoints: "
   ]
  },
  {
   "cell_type": "code",
   "execution_count": 118,
   "metadata": {
    "collapsed": false
   },
   "outputs": [],
   "source": [
    "N=1000   #number of Runge-Kutta calculation points \n",
    "h=(2*a)/N #step size \n",
    "xpoints= np.arange(-a,a,h)\n",
    "#creates an initial array for r where phi is set to 1 however any value can \n",
    "#be chosen \n",
    "phi=1   #inital condition \n",
    "psi=0\n",
    "\n",
    "r=np.array([psi,phi],float)\n",
    "\n"
   ]
  },
  {
   "cell_type": "markdown",
   "metadata": {},
   "source": [
    "These will be used in the function below so that the loop will run over an array of N x-points starting at\n",
    "x = -a and fnishing at x = +a, with step size h = 2a/N."
   ]
  },
  {
   "cell_type": "code",
   "execution_count": 119,
   "metadata": {
    "collapsed": true
   },
   "outputs": [],
   "source": [
    "def RungeKutta2d(r,xpoints, E):\n",
    "    '''Fourth-order Runge Kutta. \n",
    "    Inputs: \n",
    "    r: vector where 1st component is psi and 2nd is phi\n",
    "    xpoints: an array of x-values\n",
    "    Also depends on step h (global variable)\n",
    "    Outputs: solutions for psi(x) and phi(x)'''\n",
    "    \n",
    "    psipoints = [] # a new array for the  results\n",
    "    phipoints=[]\n",
    "    \n",
    "    for x in xpoints:\n",
    "        psipoints.append(r[0]) \n",
    "        phipoints.append(r[1])\n",
    "        k1 = h*f(r,x,E)     \n",
    "        k2 = h*f(r+0.5*k1, x+0.5*h, E)\n",
    "        k3 = h*f(r+0.5*k2, x+0.5*h, E)\n",
    "        k4 = h*f(r+k3, x+h,E)\n",
    "        r = r + (k1 + 2*k2 + 2*k3 + k4)/6\n",
    "    # these next two lines calculate for the point at x = xend!\n",
    "    psipoints.append(r[0]) \n",
    "    phipoints.append(r[1])\n",
    "    return np.array([psipoints, phipoints]) # convert output to numpy array with 2 rows and N columns"
   ]
  },
  {
   "cell_type": "markdown",
   "metadata": {},
   "source": [
    "A code cell will be set up to iiterate using the secant method until a value of E is found that gives the required psi(x)=0 at x=a. To do this 2 inital guesses for the energy are made. A tolerance variable is also set up, so that the calculation will stop once the best estimate of the root position changes by less than this amount: "
   ]
  },
  {
   "cell_type": "code",
   "execution_count": 120,
   "metadata": {
    "collapsed": false
   },
   "outputs": [
    {
     "name": "stdout",
     "output_type": "stream",
     "text": [
      "current best guess of root 6.38856551851e-18 J\n",
      "current best guess of root 5.96410224534e-18 J\n",
      "current best guess of root 6.02779922733e-18 J\n",
      "current best guess of root 6.02499991186e-18 J\n",
      "current best guess of root 6.02497862535e-18 J\n",
      "current best guess of root 6.02497863282e-18 J\n",
      "Which is 37.6044103908 eV\n"
     ]
    }
   ],
   "source": [
    "E1=20*e    #inital guesses \n",
    "E2=45*e\n",
    "tolerance = e/1000 \n",
    "err=1  # initialise the error variable\n",
    "\n",
    "#solving for the guesses\n",
    "psi1= RungeKutta2d(r,xpoints, E1)[0,N] # only interested in the final value calculated by the function\n",
    "psi2= RungeKutta2d(r,xpoints, E2)[0,N]\n",
    "\n",
    "#using the secant method to converge on the right answer\n",
    "#Iterate the secant method:\n",
    "while err > tolerance: \n",
    "    E3 = E2 - psi2*(E2-E1)/(psi2-psi1)\n",
    "    print \"current best guess of root\", E3 , \"J\"\n",
    "    err = abs(E2-E1) \n",
    "    E1 = E2 # reset x1 and x2\n",
    "    E2 = E3 # for the next iteration\n",
    "    #and recalculate the solutions \n",
    "    psi1= RungeKutta2d(r,xpoints, E1)[0,N]\n",
    "    psi2= RungeKutta2d(r,xpoints, E2)[0,N]   \n",
    "print \"Which is\", E3/e, \"eV\""
   ]
  },
  {
   "cell_type": "markdown",
   "metadata": {},
   "source": [
    "As you can see from the outputs the series converges and the best guess of the root is found at 6.02497863282e-18 J. "
   ]
  },
  {
   "cell_type": "markdown",
   "metadata": {},
   "source": [
    "The code written above converges on the ground sate reasonable quickly. To check this result it can be compared with the known ground energy state where the eigenvalues of the system are given by: $$\n",
    "E_n = \\frac{\\pi^2 \\hbar^2 n^2}{2m (2a)^2}\n",
    "$$"
   ]
  },
  {
   "cell_type": "code",
   "execution_count": 121,
   "metadata": {
    "collapsed": false
   },
   "outputs": [
    {
     "name": "stdout",
     "output_type": "stream",
     "text": [
      "The known ground state engery for this system is 6.02497863281e-18 J\n",
      "This is equvalent to 37.6044103908 eV\n"
     ]
    }
   ],
   "source": [
    "#using formula when n=1 (ground state)\n",
    "Ecal=((np.pi**2)*(hbar**2))/ (2*m*((2*a)**2))\n",
    "print \"The known ground state engery for this system is\", Ecal, \"J\"\n",
    "print \"This is equvalent to\", (Ecal/e) , \"eV\" "
   ]
  },
  {
   "cell_type": "markdown",
   "metadata": {},
   "source": [
    "Comparing this known value with the best guess of the root, it is seen how similar they are; only differing by the value of their last decimal place. Therefore this shows the sucess of using the Runge Kutta function and the Secant method for boundary value problems. "
   ]
  },
  {
   "cell_type": "markdown",
   "metadata": {},
   "source": [
    "####Finding the ground state wavefunction "
   ]
  },
  {
   "cell_type": "markdown",
   "metadata": {},
   "source": [
    "In this section the ground state wavefunction will be calculated and plotted. "
   ]
  },
  {
   "cell_type": "markdown",
   "metadata": {},
   "source": [
    "The wavefunction from the previous section is not normalised, a normalised wavefunction satisfies the following condition: $$\n",
    "\\int | \\psi(x) |^2 {\\rm d} x = 1\n",
    "$$"
   ]
  },
  {
   "cell_type": "markdown",
   "metadata": {},
   "source": [
    "To find the intergral of the RHS of the equation above, the trapezoidal rule can be used, where an intergral with limits a and b can be evaluated as: $$\n",
    "I(a,b) = h \\left[ \\frac{1}{2}f(a) + \\frac{1}{2}f(b) +\n",
    "      \\sum_{k=1}^{n-1}f(x + kh) \\right]\n",
    "$$\n",
    "In this case the integral limits are at the walls of the well therefore at -a and a. To normalise the wavefunction therefore, is to times it by : \n",
    "\n",
    "\n",
    "$$ \\frac{1}{\\sqrt{I(a,b)}} $$  \n",
    "which we will call the normalisation constant. "
   ]
  },
  {
   "cell_type": "code",
   "execution_count": 122,
   "metadata": {
    "collapsed": false
   },
   "outputs": [
    {
     "name": "stdout",
     "output_type": "stream",
     "text": [
      "4.44288298201e+15\n",
      "[  0.00000000e+00   4.44287567e+02   8.88570750e+02 ...,   8.88570750e+02\n",
      "   4.44287567e+02  -6.56774609e-10]\n"
     ]
    }
   ],
   "source": [
    "#The un-normalised wavefunction \n",
    "psiground= RungeKutta2d(r,xpoints,E3)[0]#these are the values for the calcualted wavefunction, the RugneKutta2d function\n",
    "                                       #returns 2 arrays, with the 1st representing the psiground array therefore we select\n",
    "                                       #the first array [0]\n",
    "\n",
    "\n",
    "#calculating the intregal which can be used to find the normalisation constant for the wavefunction \n",
    "#going to create a function that returns the normalisation constant\n",
    "def Normcon(psi):\n",
    "    '''Calculates intregal of wavefunction using the trapezium rule, then uses the value to \n",
    "    calculate the normalisation constant\n",
    "    Inputs:\n",
    "    psi: desired wavefunction  \n",
    "    Outputs:\n",
    "    Norm(psi): normalisation constant '''\n",
    "    I=h*((0.5* (psi[0]**2) )+(0.5*(psi[N]**2))+(np.sum(psi[1:N-1]**2))) #finds the intregal using the trapezium formula \n",
    "    Normcon=1/np.sqrt(np.abs(I)) #normalisation constant is found by 1/sqaureroot(intregal)\n",
    "    return Normcon \n",
    "\n",
    "#normalising the wavefunction \n",
    "print Normcon(psiground)  #normalisation constant calculated using the funciton \n",
    "#print I  #also can print the intregal \n",
    "psinorm=Normcon(psiground)*psiground    #normalised wavefunction= normalisation constant*the wavefunction \n",
    "print psinorm "
   ]
  },
  {
   "cell_type": "markdown",
   "metadata": {},
   "source": [
    "We are now going to plot the normalised wavefunction: "
   ]
  },
  {
   "cell_type": "code",
   "execution_count": 10,
   "metadata": {
    "collapsed": false
   },
   "outputs": [
    {
     "name": "stdout",
     "output_type": "stream",
     "text": [
      "1001\n",
      "1000\n"
     ]
    }
   ],
   "source": [
    "#the length of the arrays is frist checked \n",
    "print len(psinorm)\n",
    "print len(xpoints)   "
   ]
  },
  {
   "cell_type": "markdown",
   "metadata": {},
   "source": [
    "As can be seen the psinorm wavefunction has N+1 values and there are only N xpoints, therefore we'll slice the psinorm array to give N values instead:"
   ]
  },
  {
   "cell_type": "code",
   "execution_count": 11,
   "metadata": {
    "collapsed": false
   },
   "outputs": [
    {
     "name": "stdout",
     "output_type": "stream",
     "text": [
      "1000\n"
     ]
    }
   ],
   "source": [
    "print len(psinorm[1:])"
   ]
  },
  {
   "cell_type": "markdown",
   "metadata": {},
   "source": [
    "Before plotting this normalised wavefunction it is possible to calculate the ground state wavefunciton from the known equations: \n",
    "$$ \\psi_n(x)  = \\frac{1}{\\sqrt{a}} \\cos\\left(\\frac{ n \\pi x}{2a}\\right) \\qquad \n",
    "    n \\ \\mathrm{odd}\n",
    "    $$\n",
    "    $$\n",
    "    \\psi_n(x)  = \\frac{1}{\\sqrt{a}} \\sin\\left(\\frac{ n \\pi x}{2a}\\right) \\qquad\n",
    "    n \\ \\mathrm{even}.\n",
    "$$\n",
    "We'll create a function to implement these eqautions:"
   ]
  },
  {
   "cell_type": "code",
   "execution_count": 12,
   "metadata": {
    "collapsed": true
   },
   "outputs": [],
   "source": [
    "def PSIn(x,n):\n",
    "    ''' Inputs: \n",
    "    x: particle position \n",
    "    n: desired energy state \n",
    "    Output: the analytical solution for psi'''\n",
    "    p=(n*np.pi)/(2*a)\n",
    "    return (1/np.sqrt(a))*np.sin(p*x) if n% 2 == 0 else (1/np.sqrt(a))*np.cos(p*x) #This returns the top eqaution is n is odd \n",
    "                                                                                   #and the bottom equation is n is even"
   ]
  },
  {
   "cell_type": "markdown",
   "metadata": {},
   "source": [
    "We can now then plot the numerical solution of the normalised wavefunction and the wavefunction given by the known equation and compare the two: "
   ]
  },
  {
   "cell_type": "code",
   "execution_count": 124,
   "metadata": {
    "collapsed": false
   },
   "outputs": [
    {
     "data": {
      "text/plain": [
       "<matplotlib.text.Text at 0x10ac3a90>"
      ]
     },
     "execution_count": 124,
     "metadata": {},
     "output_type": "execute_result"
    },
    {
     "data": {
      "image/png": "[encoded data removed]",
      "text/plain": [
       "<matplotlib.figure.Figure at 0x10f821d0>"
      ]
     },
     "metadata": {},
     "output_type": "display_data"
    }
   ],
   "source": [
    "#plotting the numerical solution of the wavefunciton\n",
    "plt.plot(xpoints,psinorm[1:],'r-', label='Numerical solution ')\n",
    "\n",
    "#plotting the wavefunction from the known equations, using the PSIn() function \n",
    "plt.plot(xpoints, PSIn(xpoints,1),'b--',label='Analytical solution')\n",
    "\n",
    "# constructing the boundary at -a and a \n",
    "plt.axvline(x=a,c='k',ls='-',lw=2)\n",
    "plt.axvline(x=-a,c='k',ls='-',lw=2)\n",
    "plt.legend(loc='lower center')\n",
    "\n",
    "#labelling of axis and plot tittle \n",
    "plt.title(\"Ground state wavefunction calculated and compared with a known/analytical solution \")\n",
    "plt.xlabel(\"x (m)\")\n",
    "plt.ylabel(\"psi(x)\")\n"
   ]
  },
  {
   "cell_type": "markdown",
   "metadata": {},
   "source": [
    "As can be seen in the graph above there seems to be a perfect match between the numerical results and the analytical solutions. Both of the wavefunctions show a sinusoidal waveform and there is no wavefunction present outside the well, indicating there is no probabilty of finding the particle in that region. "
   ]
  },
  {
   "cell_type": "markdown",
   "metadata": {},
   "source": [
    "####Finding the higher engery states"
   ]
  },
  {
   "cell_type": "markdown",
   "metadata": {
    "collapsed": true
   },
   "source": [
    "The next part of the notebook will look at the fist few excited energy states where n=2,3 and 4"
   ]
  },
  {
   "cell_type": "markdown",
   "metadata": {},
   "source": [
    "To do this, for convience,  a function will be written to implement the Secant method which gives us the best estimate of E value corresponding to inital Eguesses for each n. \n"
   ]
  },
  {
   "cell_type": "code",
   "execution_count": 14,
   "metadata": {
    "collapsed": true
   },
   "outputs": [],
   "source": [
    "def Sec(Ea,Eb):\n",
    "    '''Calculates the value of E that gives us the required solution. \n",
    "    Inputs:\n",
    "    Ea: 1st initial guess engery \n",
    "    Eb: 2nd initial guess engery \n",
    "    Outputs: \n",
    "    Ec/e: The best guess of the root, the energy in eV '''\n",
    "    tolerance = e/1000 \n",
    "    err=1  # initialise the error variable\n",
    "    #solving for the guesses\n",
    "    psia= RungeKutta2d(r,xpoints, Ea)[0,N] # only interested in the final value calculated by the function\n",
    "    psib= RungeKutta2d(r,xpoints, Eb)[0,N]\n",
    "    #using the secant method to converge on the right answer\n",
    "    #Iterate the secant method:\n",
    "    while err > tolerance: \n",
    "        Ec = Eb - psib*(Eb-Ea)/(psib-psia)\n",
    "        \n",
    "        err = abs(Eb-Ea) \n",
    "        Ea = Eb # reset x1 and x2\n",
    "        Eb = Ec # for the next iteration\n",
    "        #and recalculate the solutions \n",
    "        psia= RungeKutta2d(r,xpoints, Ea)[0,N]\n",
    "        psib= RungeKutta2d(r,xpoints, Eb)[0,N]                    \n",
    "    return Ec"
   ]
  },
  {
   "cell_type": "markdown",
   "metadata": {},
   "source": [
    "We can now use this function to find the best guesses of E for different values of n:"
   ]
  },
  {
   "cell_type": "code",
   "execution_count": 15,
   "metadata": {
    "collapsed": false
   },
   "outputs": [
    {
     "name": "stdout",
     "output_type": "stream",
     "text": [
      "The best guess of the energy is 37.6044103908 eV  For when n=1\n",
      "The best guess of the energy is 150.417641567 eV  For when n=2\n",
      "The best guess of the energy is 338.439693562 eV  For when n=3\n",
      "The best guess of the energy is 601.670566502 eV  For when n=4\n"
     ]
    }
   ],
   "source": [
    "#using the function to calculate the different values of the energy \n",
    "En1=Sec(20*e,45*e)\n",
    "En2=Sec(125*e,160*e)\n",
    "En3=Sec(320*e,350*e)\n",
    "En4=Sec(580*e,610*e)\n",
    "\n",
    "print \"The best guess of the energy is\", En1/e, \"eV  For when n=1\"\n",
    "print \"The best guess of the energy is\", En2/e, \"eV  For when n=2\"\n",
    "print \"The best guess of the energy is\", En3/e, \"eV  For when n=3\"\n",
    "print \"The best guess of the energy is\", En4/e, \"eV  For when n=4\"\n"
   ]
  },
  {
   "cell_type": "markdown",
   "metadata": {},
   "source": [
    "The initial guesses made for these energies were made using a rough prediction. As already found the energy when n=1 was equal to 37.6eV, and the known formula containes multiplying by nsquared. Therefore for n=2 the energy would be aprroximately 4 times the energy when n=1, and for when n=3 it would be 9 times the energy when n=1 ect. Using this knowlegde the initial guesses were made either side of the rough estimate and not too far away. \n"
   ]
  },
  {
   "cell_type": "markdown",
   "metadata": {},
   "source": [
    "Now going to find the corresponding wave functions (using the RungeKutta function)for the energy values found and normalise them: "
   ]
  },
  {
   "cell_type": "code",
   "execution_count": 16,
   "metadata": {
    "collapsed": false
   },
   "outputs": [],
   "source": [
    "#the wavefunctions are found using the RungeKutta2d\n",
    "Psi2=RungeKutta2d(r,xpoints,En2)[0]  #the wavefunction found numerically for when n=2\n",
    "Psi3=RungeKutta2d(r,xpoints,En3)[0]\n",
    "Psi4=RungeKutta2d(r,xpoints,En4)[0]\n",
    "\n",
    "#normalising these wavefunctions using the normalsation constant function \n",
    "Psi2N=Normcon(Psi2)*Psi2  #normalised wavefunction= normalisation constant*the wavefunction \n",
    "Psi3N=Normcon(Psi3)*Psi3    \n",
    "Psi4N=Normcon(Psi4)*Psi4\n"
   ]
  },
  {
   "cell_type": "markdown",
   "metadata": {},
   "source": [
    "We can again plot these:"
   ]
  },
  {
   "cell_type": "code",
   "execution_count": 17,
   "metadata": {
    "collapsed": false
   },
   "outputs": [
    {
     "data": {
      "text/plain": [
       "<matplotlib.text.Text at 0xb024a58>"
      ]
     },
     "execution_count": 17,
     "metadata": {},
     "output_type": "execute_result"
    },
    {
     "data": {
      "image/png": "[encoded data removed]",
      "text/plain": [
       "<matplotlib.figure.Figure at 0xab997b8>"
      ]
     },
     "metadata": {},
     "output_type": "display_data"
    }
   ],
   "source": [
    "#plotting the normalised wavefunctions for different energy states\n",
    "plt.plot(xpoints,Psi2N[1:],'r-', label='n=2 ')\n",
    "plt.plot(xpoints,Psi3N[1:],'b-', label='n=3 ')\n",
    "plt.plot(xpoints,Psi4N[1:],'g-', label='n=4 ')\n",
    "\n",
    "# construct the boundary\n",
    "plt.axvline(x=a,c='k',ls='-',lw=2)\n",
    "plt.axvline(x=-a,c='k',ls='-',lw=2)\n",
    "\n",
    "#labelling the plot \n",
    "plt.legend(loc='lower left')\n",
    "plt.title(\"Numerical solutions for higher state engergies \")\n",
    "plt.xlabel(\"x\")\n",
    "plt.ylabel(\"psi(x)\")\n"
   ]
  },
  {
   "cell_type": "markdown",
   "metadata": {},
   "source": [
    "Physics behind this potential: \n",
    "The wavefunctions above are the solutions to the TISE when the potenital is that decribed by an infinite sqaure well. For a particle found inside the well, a free particle wavefunction is found, however since the probability of finding the particle outside the well is zero, the wavefunction goes to zero at the walls. For a free particle, where there is no potenital energy, all the energy is kinetic, giving us these sinusoidial wavefunctions.  The wavefunctions can be used to find the probability of finding the particle at the postition via the Born rule. As the n value increases, the wavelength becomes shorter, reprenting the higher energy the state posseses. "
   ]
  },
  {
   "cell_type": "markdown",
   "metadata": {},
   "source": [
    "Can again compare with the wavefunctions produced by the analytic solution, using the \"PSIn(x,n)\" function prdoduced earlier:"
   ]
  },
  {
   "cell_type": "code",
   "execution_count": 127,
   "metadata": {
    "collapsed": false
   },
   "outputs": [
    {
     "data": {
      "text/plain": [
       "<matplotlib.text.Text at 0x114efc50>"
      ]
     },
     "execution_count": 127,
     "metadata": {},
     "output_type": "execute_result"
    },
    {
     "data": {
      "image/png": "[encoded data removed]",
      "text/plain": [
       "<matplotlib.figure.Figure at 0x1168fac8>"
      ]
     },
     "metadata": {},
     "output_type": "display_data"
    }
   ],
   "source": [
    "#plotting the the numercial solution for n=2\n",
    "plt.plot(xpoints,Psi2N[1:],'r-', label='numerical ')\n",
    "\n",
    "#plotting the analytical solution for n=2 \n",
    "plt.plot(xpoints, PSIn(xpoints,2),'r--',label='analytical')\n",
    "\n",
    "#construct the boundary\n",
    "plt.axvline(x=a,c='k',ls='-',lw=2)\n",
    "plt.axvline(x=-a,c='k',ls='-',lw=2)\n",
    "plt.legend(loc='lower left')\n",
    "plt.title(\"Comparison of wavefunction solutions for when n=2 \")\n",
    "plt.xlabel(\"x\")\n",
    "plt.ylabel(\"psi(x)\")\n"
   ]
  },
  {
   "cell_type": "markdown",
   "metadata": {},
   "source": [
    "As you can see in the plot above the analytical solution is a mirror image along the x-axis compared to the numerical solution for which I am unsure why this result is produced. "
   ]
  },
  {
   "cell_type": "code",
   "execution_count": 128,
   "metadata": {
    "collapsed": false
   },
   "outputs": [
    {
     "data": {
      "text/plain": [
       "<matplotlib.text.Text at 0x1150d9e8>"
      ]
     },
     "execution_count": 128,
     "metadata": {},
     "output_type": "execute_result"
    },
    {
     "data": {
      "image/png": "[encoded data removed]",
      "text/plain": [
       "<matplotlib.figure.Figure at 0x11662ef0>"
      ]
     },
     "metadata": {},
     "output_type": "display_data"
    }
   ],
   "source": [
    "#plotting the analytical solution with the numercial for n=3\n",
    "plt.plot(xpoints,Psi3N[1:],'b-', label='numerical ')\n",
    "\n",
    "#plotting the analytical solution for n=3\n",
    "plt.plot(xpoints, PSIn(xpoints,3),'b--',label='analytical')\n",
    "\n",
    "#construct the boundary\n",
    "plt.axvline(x=a,c='k',ls='-',lw=2)\n",
    "plt.axvline(x=-a,c='k',ls='-',lw=2)\n",
    "plt.legend(loc='lower left')\n",
    "plt.title(\"Comparison of wavefunction solutions for when n=3 \")\n",
    "plt.xlabel(\"x\")\n",
    "plt.ylabel(\"psi(x)\")\n"
   ]
  },
  {
   "cell_type": "markdown",
   "metadata": {},
   "source": [
    "Again a mirror image is produced along the x=0 line, between the 2 solutions."
   ]
  },
  {
   "cell_type": "code",
   "execution_count": 129,
   "metadata": {
    "collapsed": false
   },
   "outputs": [
    {
     "data": {
      "text/plain": [
       "<matplotlib.text.Text at 0x11bd7b38>"
      ]
     },
     "execution_count": 129,
     "metadata": {},
     "output_type": "execute_result"
    },
    {
     "data": {
      "image/png": "[encoded data removed]",
      "text/plain": [
       "<matplotlib.figure.Figure at 0x119b9cf8>"
      ]
     },
     "metadata": {},
     "output_type": "display_data"
    }
   ],
   "source": [
    "#plotting the analytical solution with the numercial for n=4\n",
    "plt.plot(xpoints,Psi4N[1:],'g-', label='numerical ')\n",
    "\n",
    "#plotting the analytical solution for n=4 \n",
    "plt.plot(xpoints, PSIn(xpoints,4),'b--',label='analytical')\n",
    "\n",
    "#construct the boundary\n",
    "plt.axvline(x=a,c='k',ls='-',lw=2)\n",
    "plt.axvline(x=-a,c='k',ls='-',lw=2)\n",
    "plt.legend(loc='lower left')\n",
    "plt.title(\"Comparison of wavefunction solutions for when n=4 \")\n",
    "plt.xlabel(\"x\")\n",
    "plt.ylabel(\"psi(x)\")\n"
   ]
  },
  {
   "cell_type": "markdown",
   "metadata": {},
   "source": [
    "Here there is a perfect match of the numerical and analytical solutions. "
   ]
  },
  {
   "cell_type": "markdown",
   "metadata": {},
   "source": [
    "We are now going to see if the method still works to find eigenstates for large values of n, to test this we will try when n=20: "
   ]
  },
  {
   "cell_type": "markdown",
   "metadata": {},
   "source": [
    "To 1st find the numerical solution again have to make 2 inital guesses, in the case where n=20 the energy is roughly= (37.6 times 400)ev = 15040eV. Therefore our 2 inital guesses chosen should be close to this and either side of the value. "
   ]
  },
  {
   "cell_type": "code",
   "execution_count": 130,
   "metadata": {
    "collapsed": false
   },
   "outputs": [
    {
     "name": "stdout",
     "output_type": "stream",
     "text": [
      "The best guess of the energy is 15041.768058 eV  For when n=20\n"
     ]
    }
   ],
   "source": [
    "#finding the best guess of the energy\n",
    "En20=Sec(14980*e,15095*e)\n",
    "print \"The best guess of the energy is\", En20/e, \"eV  For when n=20\""
   ]
  },
  {
   "cell_type": "markdown",
   "metadata": {},
   "source": [
    "This value seems to be about right. Next finding the wavefunction from this using our RungeKutta function and trying to normalise the wavefunction: "
   ]
  },
  {
   "cell_type": "code",
   "execution_count": 131,
   "metadata": {
    "collapsed": true
   },
   "outputs": [],
   "source": [
    "#the wavefunctions are found using the RungeKutta2d\n",
    "Psi20=RungeKutta2d(r,xpoints,En20)[0]  #the wavefunction found numerically for when n=20\n",
    "\n",
    "#normalising these wavefunctions using the normalsation constant function \n",
    "Psi20N=Normcon(Psi20)*Psi20  #normalised wavefunction= normalisation constant*the wavefunction "
   ]
  },
  {
   "cell_type": "markdown",
   "metadata": {},
   "source": [
    "Again plotting the numerical solution along with the analytical solution:"
   ]
  },
  {
   "cell_type": "code",
   "execution_count": 23,
   "metadata": {
    "collapsed": false
   },
   "outputs": [
    {
     "data": {
      "text/plain": [
       "<matplotlib.text.Text at 0xc4f9e80>"
      ]
     },
     "execution_count": 23,
     "metadata": {},
     "output_type": "execute_result"
    },
    {
     "data": {
      "image/png": "[encoded data removed]",
      "text/plain": [
       "<matplotlib.figure.Figure at 0xc3270f0>"
      ]
     },
     "metadata": {},
     "output_type": "display_data"
    }
   ],
   "source": [
    "#plotting the the numercial solution for n=20\n",
    "plt.plot(xpoints,Psi20N[1:],'r-', label='numerical ')\n",
    "\n",
    "#plotting the analytical solution for n=20 \n",
    "plt.plot(xpoints, PSIn(xpoints,20),'b--',label='analytical')\n",
    "\n",
    "#construct the boundary\n",
    "plt.axvline(x=a,c='k',ls='-',lw=2)\n",
    "plt.axvline(x=-a,c='k',ls='-',lw=2)\n",
    "plt.legend(loc='lower left')\n",
    "plt.title(\"Comparison of wavefunction solutions for when n=20 \")\n",
    "plt.xlabel(\"x\")\n",
    "plt.ylabel(\"psi(x)\")\n"
   ]
  },
  {
   "cell_type": "markdown",
   "metadata": {},
   "source": [
    "Again there seems to be a perfect match between the numerical results and the analytical solutions. Therefore we can deduce that the numerical method implemented also works to find eigenstates for large values of n, where it is in aggrement with the corresponding analytical solution."
   ]
  },
  {
   "cell_type": "markdown",
   "metadata": {},
   "source": [
    "###The infinite sqaure well "
   ]
  },
  {
   "cell_type": "markdown",
   "metadata": {},
   "source": [
    "At the moment we have a code that works well to solve for the eigenstates of the infinte sqaure well. The code calculates answers that we already knew from a realtively simple analytical solution. Through adaptaion of this code however it will be possible to calculate for systems that aren't easily solvable analytically. The results in this case will be compared with systems that we have already met. "
   ]
  },
  {
   "cell_type": "markdown",
   "metadata": {},
   "source": [
    "The infinite square walls of the potenial well will be kept, guaranteeing again that the particle cannot be found in the v(x)= infinity region; the boundary conditions are the same as the original problem. "
   ]
  },
  {
   "cell_type": "markdown",
   "metadata": {},
   "source": [
    "For this new problem however, the base of the potential well will be changed so that it is no longer sqaure. "
   ]
  },
  {
   "cell_type": "markdown",
   "metadata": {},
   "source": [
    "####Harmonic potential "
   ]
  },
  {
   "cell_type": "markdown",
   "metadata": {},
   "source": [
    "Going to start with embedded potentials with familiar forms, where we'll  be able to explore\n",
    "the similarities and differences from the analytical solutions. "
   ]
  },
  {
   "cell_type": "markdown",
   "metadata": {},
   "source": [
    "We are going to implement this simply by changing the form of the potential\n",
    "defined in the Python function earlier. The potenial we will 1st look at is the Harmonic potential, defined by the eqaution: $$\n",
    "V(x) = V_0 \\frac{x^2}{a^2}\n",
    "$$"
   ]
  },
  {
   "cell_type": "markdown",
   "metadata": {},
   "source": [
    "We will try to calculate the lowest 3 eigenstates and plot the wavefuncitons associated with them. "
   ]
  },
  {
   "cell_type": "code",
   "execution_count": 24,
   "metadata": {
    "collapsed": false
   },
   "outputs": [],
   "source": [
    "#producting a function for our new V(x)\n",
    "def V1(x):\n",
    "    '''Produces a potenial equal to the harmonic potential for when x is inside the well \n",
    "    x: the x points inside the well\n",
    "    Outputs: \n",
    "    V1(x) : The harmonic potential given by the equation above'''\n",
    "    V0=800*e\n",
    "    return V0*(x**2)/(a**2)"
   ]
  },
  {
   "cell_type": "code",
   "execution_count": 25,
   "metadata": {
    "collapsed": false
   },
   "outputs": [
    {
     "data": {
      "text/plain": [
       "<matplotlib.lines.Line2D at 0xc8a14e0>"
      ]
     },
     "execution_count": 25,
     "metadata": {},
     "output_type": "execute_result"
    },
    {
     "data": {
      "image/png": "[encoded data removed]",
      "text/plain": [
       "<matplotlib.figure.Figure at 0xc469080>"
      ]
     },
     "metadata": {},
     "output_type": "display_data"
    }
   ],
   "source": [
    "#plotting this new harmonic potential \n",
    "plt.plot(xpoints,V1(xpoints))\n",
    "plt.xlabel(\"x\")\n",
    "plt.ylabel(\"V1(x)\")\n",
    "plt.title(\"Plot of the harmonic potenital within the well\")\n",
    "plt.axvline(x=a,c='k',ls='-',lw=2)\n",
    "plt.axvline(x=-a,c='k',ls='-',lw=2)"
   ]
  },
  {
   "cell_type": "markdown",
   "metadata": {},
   "source": [
    "The plot shows the harmonic potenital embedded in the infinite well. The particle is still confined within the infinite walls. Setting V0= 800e is a good starting point, as it gives a fairly deep harmonic potential. "
   ]
  },
  {
   "cell_type": "markdown",
   "metadata": {},
   "source": [
    "We now need to create a new function for the differential eqautions using the new potential defined: "
   ]
  },
  {
   "cell_type": "code",
   "execution_count": 132,
   "metadata": {
    "collapsed": true
   },
   "outputs": [],
   "source": [
    "#creating a function for the rhs of the equations (1) and (2)\n",
    "def fh(r,x,E):\n",
    "    ''' Definition of our numerical function\n",
    "    Inputs:\n",
    "    r: vector where 1st element represnts psi and the 2nd phi \n",
    "    x: value of x at which to evaulate the function\n",
    "    E: energy value at which the function is evaluated\n",
    "    Outputs:\n",
    "    f(psi,phi): returns 2 arrays, one for each rhs of the equation '''\n",
    "    psi= r[0]  \n",
    "    phi=r[1]\n",
    "    f1=phi    # dψ/dt = φ\n",
    "    f2=((2*m)/(hbar**2))*(V1(x)-E)*psi #dφ/dt = 2m/ћ^2[V(x)-E]ψ(x)\n",
    "    return  np.array([f1,f2], float) #returns the 2 rhs of the equations "
   ]
  },
  {
   "cell_type": "markdown",
   "metadata": {},
   "source": [
    "Again we need to adapt the RungeKutta2d used before that implements our new fh function with the new harmonic potenital: "
   ]
  },
  {
   "cell_type": "code",
   "execution_count": 133,
   "metadata": {
    "collapsed": true
   },
   "outputs": [],
   "source": [
    "def RungeKutta2dhp(r,xpoints, E):\n",
    "    '''Fourth-order Runge Kutta rewritten for two simultaneous equations\n",
    "    Inputs: \n",
    "    r: vector where 1st component is psi and 2nd is phi\n",
    "    xpoints: an array of x-values\n",
    "    Also depends on step h (global variable)\n",
    "    Outputs: solutions for psi(x) and phi(x)'''\n",
    "    \n",
    "    psipoints = [] # a new array for the  results\n",
    "    phipoints=[]\n",
    "    \n",
    "    for x in xpoints:\n",
    "        psipoints.append(r[0]) \n",
    "        phipoints.append(r[1])\n",
    "        k1 = h*fh(r,x,E)     \n",
    "        k2 = h*fh(r+0.5*k1, x+0.5*h, E)\n",
    "        k3 = h*fh(r+0.5*k2, x+0.5*h, E)\n",
    "        k4 = h*fh(r+k3, x+h,E)\n",
    "        r = r + (k1 + 2*k2 + 2*k3 + k4)/6\n",
    "    # these next two lines calculate for the point at x = xend!\n",
    "    psipoints.append(r[0]) \n",
    "    phipoints.append(r[1])\n",
    "    return np.array([psipoints, phipoints]) # convert output to numpy array with 2 rows and N columns"
   ]
  },
  {
   "cell_type": "markdown",
   "metadata": {},
   "source": [
    "Now we will also need to adapt our function that implements the Secant method, by renaming it and using the new RungeKutta2dhp:"
   ]
  },
  {
   "cell_type": "code",
   "execution_count": 134,
   "metadata": {
    "collapsed": true
   },
   "outputs": [],
   "source": [
    "def Sec1(Ea,Eb):\n",
    "    '''Calculates the value of E that gives us the required solution. \n",
    "    Inputs:\n",
    "    Ea: 1st initial guess engery \n",
    "    Eb: 2nd initial guess engery \n",
    "    Outputs: \n",
    "    Ec/e: The best guess of the root, the energy in eV '''\n",
    "    tolerance = e/1000 \n",
    "    err=1  # initialise the error variable\n",
    "    #solving for the guesses\n",
    "    psia= RungeKutta2dhp(r,xpoints, Ea)[0,N] # only interested in the final value calculated by the function\n",
    "    psib= RungeKutta2dhp(r,xpoints, Eb)[0,N]\n",
    "    #using the secant method to converge on the right answer\n",
    "    #Iterate the secant method:\n",
    "    while err > tolerance: \n",
    "        Ec = Eb - psib*(Eb-Ea)/(psib-psia)\n",
    "        \n",
    "        err = abs(Eb-Ea) \n",
    "        Ea = Eb # reset x1 and x2\n",
    "        Eb = Ec # for the next iteration\n",
    "        #and recalculate the solutions \n",
    "        psia= RungeKutta2dhp(r,xpoints, Ea)[0,N]\n",
    "        psib= RungeKutta2dhp(r,xpoints, Eb)[0,N]                    \n",
    "    return Ec"
   ]
  },
  {
   "cell_type": "markdown",
   "metadata": {},
   "source": [
    "Can now use this to find the best guess of our energies, we will try to find the roots for when n=1,2 and 3:"
   ]
  },
  {
   "cell_type": "code",
   "execution_count": 135,
   "metadata": {
    "collapsed": false
   },
   "outputs": [
    {
     "name": "stdout",
     "output_type": "stream",
     "text": [
      "The best guess of the energy is 110.859610622 eV  For when n=1\n",
      "The best guess of the energy is 336.610856785 eV  For when n=2\n",
      "The best guess of the energy is 580.477674494 eV  For when n=3\n"
     ]
    }
   ],
   "source": [
    "#using the function to calculate the different values of the energy \n",
    "Enhp1=Sec1(100*e,150*e)  #initial guesses for the energy when n=1 when there is a harmonic potential\n",
    "Enhp2=Sec1(200*e,350*e)\n",
    "Enhp3=Sec1(400*e,600*e)\n",
    "\n",
    "\n",
    "print \"The best guess of the energy is\", Enhp1/e, \"eV  For when n=1\"\n",
    "print \"The best guess of the energy is\", Enhp2/e, \"eV  For when n=2\"\n",
    "print \"The best guess of the energy is\", Enhp3/e, \"eV  For when n=3\"\n",
    "\n"
   ]
  },
  {
   "cell_type": "markdown",
   "metadata": {},
   "source": [
    "For the inital guesses as I was unsure of the solution, the initial guesses used for Enhp1 were those before of 20*e, and 45*e using those the solution was 110.859610622 eV, therefore i changed my inital guesses to 100*e and 150*e (as seen above). This gave me an indication of the initial guesses I should use for the n=2 and n=3 engery states. "
   ]
  },
  {
   "cell_type": "markdown",
   "metadata": {},
   "source": [
    "We can now find the corresponding wavefunctions for the best guess engergies and normalise them: "
   ]
  },
  {
   "cell_type": "code",
   "execution_count": 139,
   "metadata": {
    "collapsed": true
   },
   "outputs": [],
   "source": [
    "#the wavefunctions are found using the RungeKutta2dhp\n",
    "Psihp1=RungeKutta2dhp(r,xpoints,Enhp1)[0]  #the wavefunction found numerically for when n=1\n",
    "Psihp2=RungeKutta2dhp(r,xpoints,Enhp2)[0]\n",
    "Psihp3=RungeKutta2dhp(r,xpoints,Enhp3)[0]\n",
    "\n",
    "#normalising these wavefunctions using the normalsation constant function \n",
    "Psihp1N=Normcon(Psihp1)*Psihp1  #normalised wavefunction= normalisation constant*the wavefunction \n",
    "Psihp2N=Normcon(Psihp2)*Psihp2    \n",
    "Psihp3N=Normcon(Psihp3)*Psihp3\n"
   ]
  },
  {
   "cell_type": "markdown",
   "metadata": {},
   "source": [
    "Again we can plot these solutions: "
   ]
  },
  {
   "cell_type": "code",
   "execution_count": 140,
   "metadata": {
    "collapsed": false
   },
   "outputs": [
    {
     "data": {
      "text/plain": [
       "<matplotlib.text.Text at 0x11ffb6a0>"
      ]
     },
     "execution_count": 140,
     "metadata": {},
     "output_type": "execute_result"
    },
    {
     "data": {
      "image/png": "[encoded data removed]",
      "text/plain": [
       "<matplotlib.figure.Figure at 0x11de1e48>"
      ]
     },
     "metadata": {},
     "output_type": "display_data"
    }
   ],
   "source": [
    "#plotting the normalised wavefunctions for different energy states\n",
    "plt.plot(xpoints,Psihp1N[1:],'r-', label='n=1 ')\n",
    "plt.plot(xpoints,Psihp2N[1:],'b-', label='n=2 ')\n",
    "plt.plot(xpoints,Psihp3N[1:],'g-', label='n=3 ')\n",
    "\n",
    "# construct the boundary\n",
    "plt.axvline(x=a,c='k',ls='-',lw=2)\n",
    "plt.axvline(x=-a,c='k',ls='-',lw=2)\n",
    "\n",
    "#labelling the plot \n",
    "plt.legend(loc='lower left')\n",
    "plt.title(\"Numerical solutions for various state engergies when there is a Harmonic potential\")\n",
    "plt.xlabel(\"x\")\n",
    "plt.ylabel(\"psi(x)\")\n"
   ]
  },
  {
   "cell_type": "markdown",
   "metadata": {},
   "source": [
    "When comparing these numerical solutions found with analytic solutions/other solutions it can be seen they are in agreement. Comparing with the solutions found on: http://hyperphysics.phy-astr.gsu.edu/hbase/quantum/hosc5.html. The solutions are in agreement. Again with some of the wavefunctions being reflections of the analytical solutions. "
   ]
  },
  {
   "cell_type": "markdown",
   "metadata": {},
   "source": [
    "The physics behind this potenital: \n",
    "As the value of n increases the wavelength becomes shorter inside the well therefore this coressponds (via the de Broglie relationship) they may be seen to have a higher momentum and therefore energy. From the wavefunctions above, if we think about the sqaure of the wavefunctions, (giving us the probabily density), for this 'quantum oscilllator' the most probable value of position (for the lower states) is dfifferent from a claasical harmonic osiclltor, where it woould normally spend the most time near the end of motion. AS the quantum number increases (e.g for the n=3 solution plotted) wavfunction/probabily distribution becomes more like that of the classical oscialltor. This represents the correspondence principe; tendency to approach the classical behavoir for high quantum numbers. Again energy is quantised and there are both even and odd solutions. "
   ]
  },
  {
   "cell_type": "markdown",
   "metadata": {},
   "source": [
    "###Finite square well "
   ]
  },
  {
   "cell_type": "markdown",
   "metadata": {
    "collapsed": true
   },
   "source": [
    "Now going to try and find solutions for the finite square well where the potential takes the form:  $$\n",
    "V_x = \\begin{cases} 0 & \\text{if } -a/2 < x < +a/2, \\\\ \n",
    "    V_0  & \\text{if } |x| > a/2, \\end{cases} \n",
    "$$"
   ]
  },
  {
   "cell_type": "markdown",
   "metadata": {},
   "source": [
    "Again we need to define a new function for this potential: "
   ]
  },
  {
   "cell_type": "code",
   "execution_count": 141,
   "metadata": {
    "collapsed": true
   },
   "outputs": [],
   "source": [
    "def V2(x):\n",
    "    ''' Produces a value of V=0 x values inside the well and V=V0 for x values outside the well'''\n",
    "    if abs(x) < (a/2):\n",
    "        V2=0\n",
    "    else: \n",
    "        V2=800*e   #again setting the value of V0 to 800*e as a rough estimate as it worked well for the \n",
    "                   #the last time \n",
    "    return V2 "
   ]
  },
  {
   "cell_type": "markdown",
   "metadata": {},
   "source": [
    "Lets again plot this potential: "
   ]
  },
  {
   "cell_type": "code",
   "execution_count": 142,
   "metadata": {
    "collapsed": false
   },
   "outputs": [],
   "source": [
    "#first we need to create an array of the potential values that correspond with our xpoints\n",
    "V2points = [] # initialise empty output array\n",
    "for x in xpoints:\n",
    "    V2points.append(V2(x)) #using the function defined for f(x) to produce f(x) values for given x values "
   ]
  },
  {
   "cell_type": "code",
   "execution_count": 143,
   "metadata": {
    "collapsed": false
   },
   "outputs": [
    {
     "data": {
      "text/plain": [
       "<matplotlib.lines.Line2D at 0x11d46358>"
      ]
     },
     "execution_count": 143,
     "metadata": {},
     "output_type": "execute_result"
    },
    {
     "data": {
      "image/png": "[encoded data removed]",
      "text/plain": [
       "<matplotlib.figure.Figure at 0x11d46828>"
      ]
     },
     "metadata": {},
     "output_type": "display_data"
    }
   ],
   "source": [
    "#plotting this new finite square potential \n",
    "plt.plot(xpoints,V2points)\n",
    "plt.xlabel(\"x\")\n",
    "plt.ylabel(\"V2(x)\")\n",
    "plt.title(\"Plot of the finite square well\")\n",
    "plt.axvline(x=a/2,c='k',ls='-',lw=2)\n",
    "plt.axvline(x=-a/2,c='k',ls='-',lw=2)"
   ]
  },
  {
   "cell_type": "markdown",
   "metadata": {},
   "source": [
    "Need to also adapt the function that impletments the differential equations using the knew potenial for the finite well. "
   ]
  },
  {
   "cell_type": "code",
   "execution_count": 144,
   "metadata": {
    "collapsed": true
   },
   "outputs": [],
   "source": [
    "#creating a function for the rhs of the equations (1) and (2)\n",
    "def ffp(r,x,E):   #where fp stands for finite potential \n",
    "    ''' Definition of our numerical function\n",
    "    Inputs:\n",
    "    r: vector where 1st element represnts psi and the 2nd phi \n",
    "    x: value of x at which to evaulate the function\n",
    "    E: energy value at which the function is evaluated\n",
    "    Outputs:\n",
    "    f(psi,phi): returns 2 arrays, one for each rhs of the equation '''\n",
    "    psi= r[0]  \n",
    "    phi=r[1]\n",
    "    f1=phi    # dψ/dt = φ\n",
    "    f2=((2*m)/(hbar**2))*(V2(x)-E)*psi #dφ/dt = 2m/ћ^2[V(x)-E]ψ(x)\n",
    "    return  np.array([f1,f2], float) #returns the 2 rhs of the equations "
   ]
  },
  {
   "cell_type": "markdown",
   "metadata": {},
   "source": [
    "Adapting the RungeKutta2d potential by changing to the ffp function : "
   ]
  },
  {
   "cell_type": "code",
   "execution_count": 145,
   "metadata": {
    "collapsed": true
   },
   "outputs": [],
   "source": [
    "def RungeKutta2dfp(r,xpoints, E):\n",
    "    '''Fourth-order Runge Kutta rewritten for two simultaneous equations\n",
    "    Inputs: \n",
    "    r: vector where 1st component is psi and 2nd is phi\n",
    "    xpoints: an array of x-values\n",
    "    Also depends on step h (global variable)\n",
    "    Outputs: solutions for psi(x) and phi(x)'''\n",
    "    \n",
    "    psipoints = [] # a new array for the  results\n",
    "    phipoints=[]\n",
    "    \n",
    "    for x in xpoints:\n",
    "        psipoints.append(r[0]) \n",
    "        phipoints.append(r[1])\n",
    "        k1 = h*ffp(r,x,E)     \n",
    "        k2 = h*ffp(r+0.5*k1, x+0.5*h, E)\n",
    "        k3 = h*ffp(r+0.5*k2, x+0.5*h, E)\n",
    "        k4 = h*ffp(r+k3, x+h,E)\n",
    "        r = r + (k1 + 2*k2 + 2*k3 + k4)/6\n",
    "    # these next two lines calculate for the point at x = xend!\n",
    "    psipoints.append(r[0]) \n",
    "    phipoints.append(r[1])\n",
    "    return np.array([psipoints, phipoints]) # convert output to numpy array with 2 rows and N columns"
   ]
  },
  {
   "cell_type": "markdown",
   "metadata": {},
   "source": [
    "Adapting the secant method function by changing the new RungeKutta2dfp function : "
   ]
  },
  {
   "cell_type": "code",
   "execution_count": 146,
   "metadata": {
    "collapsed": true
   },
   "outputs": [],
   "source": [
    "def Sec2(Ea,Eb):\n",
    "    '''Calculates the value of E that gives us the required solution. \n",
    "    Inputs:\n",
    "    Ea: 1st initial guess engery \n",
    "    Eb: 2nd initial guess engery \n",
    "    Outputs: \n",
    "    Ec/e: The best guess of the root, the energy in eV '''\n",
    "    tolerance = e/1000 \n",
    "    err=1  # initialise the error variable\n",
    "    #solving for the guesses\n",
    "    psia= RungeKutta2dfp(r,xpoints, Ea)[0,N] # only interested in the final value calculated by the function\n",
    "    psib= RungeKutta2dfp(r,xpoints, Eb)[0,N]\n",
    "    #using the secant method to converge on the right answer\n",
    "    #Iterate the secant method:\n",
    "    while err > tolerance: \n",
    "        Ec = Eb - psib*(Eb-Ea)/(psib-psia)\n",
    "        \n",
    "        err = abs(Eb-Ea) \n",
    "        Ea = Eb # reset x1 and x2\n",
    "        Eb = Ec # for the next iteration\n",
    "        #and recalculate the solutions \n",
    "        psia= RungeKutta2dfp(r,xpoints, Ea)[0,N]\n",
    "        psib= RungeKutta2dfp(r,xpoints, Eb)[0,N]                    \n",
    "    return Ec"
   ]
  },
  {
   "cell_type": "markdown",
   "metadata": {},
   "source": [
    "Can now use this adapted functions to find the best guess of our energies, again for when n=1,2 and 3:"
   ]
  },
  {
   "cell_type": "code",
   "execution_count": 147,
   "metadata": {
    "collapsed": false
   },
   "outputs": [
    {
     "name": "stdout",
     "output_type": "stream",
     "text": [
      "The best guess of the energy is 91.6579981061 eV  For when n=1\n",
      "The best guess of the energy is 355.83842782 eV  For when n=2\n",
      "The best guess of the energy is 1387.29178198 eV  For when n=3\n"
     ]
    }
   ],
   "source": [
    "#using the function to calculate the different values of the energy \n",
    "Enfp1=Sec2(80*e,150*e)  #initial guesses for the energy when n=1 when there is a harmonic potential\n",
    "Enfp2=Sec2(200*e,370*e)\n",
    "Enfp3=Sec2(400*e,600*e)\n",
    "\n",
    "\n",
    "print \"The best guess of the energy is\", Enfp1/e, \"eV  For when n=1\"\n",
    "print \"The best guess of the energy is\", Enfp2/e, \"eV  For when n=2\"\n",
    "print \"The best guess of the energy is\", Enfp3/e, \"eV  For when n=3\"\n"
   ]
  },
  {
   "cell_type": "markdown",
   "metadata": {},
   "source": [
    "For the inital guesses as I was again unsure of the solutions, the initial guesses used for Enfp1 were those before of 20*e, and 45*e using those the solution was 91.6579981061 eV , therefore i changed my inital guesses to 80*e and 150*e (as seen above). This gave me an indication of the initial guesses I should use for the n=2 and n=3 engery states. As you can see above my guess for the energy when n=3 was not very acurate, but still found a root at 1387.29178198 eV. "
   ]
  },
  {
   "cell_type": "markdown",
   "metadata": {},
   "source": [
    "Can use these best guess of the energy to calculate the new wavefunctions and normalise them, again by adapting my previous code : "
   ]
  },
  {
   "cell_type": "code",
   "execution_count": 148,
   "metadata": {
    "collapsed": true
   },
   "outputs": [],
   "source": [
    "#the wavefunctions are found using the RungeKutta2dhp\n",
    "Psifp1=RungeKutta2dfp(r,xpoints,Enfp1)[0]  #the wavefunction found numerically for when n=1\n",
    "Psifp2=RungeKutta2dfp(r,xpoints,Enfp2)[0]\n",
    "Psifp3=RungeKutta2dfp(r,xpoints,Enfp3)[0]\n",
    "\n",
    "#normalising these wavefunctions using the normalsation constant function \n",
    "Psifp1N=Normcon(Psifp1)*Psifp1  #normalised wavefunction= normalisation constant*the wavefunction \n",
    "Psifp2N=Normcon(Psifp2)*Psifp2    \n",
    "Psifp3N=Normcon(Psifp3)*Psifp3\n"
   ]
  },
  {
   "cell_type": "markdown",
   "metadata": {},
   "source": [
    "Plotting these wavefuncitons: "
   ]
  },
  {
   "cell_type": "code",
   "execution_count": 149,
   "metadata": {
    "collapsed": false
   },
   "outputs": [
    {
     "data": {
      "text/plain": [
       "<matplotlib.text.Text at 0x12447208>"
      ]
     },
     "execution_count": 149,
     "metadata": {},
     "output_type": "execute_result"
    },
    {
     "data": {
      "image/png": "[encoded data removed]",
      "text/plain": [
       "<matplotlib.figure.Figure at 0x125146a0>"
      ]
     },
     "metadata": {},
     "output_type": "display_data"
    }
   ],
   "source": [
    "#plotting the normalised wavefunctions for different energy states\n",
    "plt.plot(xpoints,Psifp1N[1:],'r-', label='n=1 ')\n",
    "plt.plot(xpoints,Psifp2N[1:],'b-', label='n=2 ')\n",
    "plt.plot(xpoints,Psifp3N[1:],'g-', label='n=3 ')\n",
    "\n",
    "# construct the boundary\n",
    "plt.axvline(x=a/2,c='k',ls='-',lw=2)\n",
    "plt.axvline(x=-a/2,c='k',ls='-',lw=2)\n",
    "\n",
    "#labelling the plot \n",
    "plt.legend(loc='lower left')\n",
    "plt.title(\"Numerical solutions for various state engergies when there is a Finite potential\")\n",
    "plt.xlabel(\"x\")\n",
    "plt.ylabel(\"psi(x)\")\n"
   ]
  },
  {
   "cell_type": "markdown",
   "metadata": {},
   "source": [
    "Comparing with the other results which can be found on fig 2.2 on http://electrons.wikidot.com/particle-in-a-box, the results found in this notebook seem to show agreement for the first 2 states, where n=1 and n=2 however they are not in agreement for when n=3. In the plot above for the n=3 case there is no longer exponential decays of the wavefunction outside the well which is shown in the comparison fig 2.2(The reason for this is explained below). Another difference for the n=3, when compared with fig2.2, the sinsoidual wavefunction inside the well are mirror images between the 2 plots. "
   ]
  },
  {
   "cell_type": "markdown",
   "metadata": {},
   "source": [
    "The physics behind this potential: \n",
    "The solutions for these wavefunctions demonstrates what is known as quantum tunnelling; a classical particle would never leave the well, but we see a finite probability of measuring the particle outside the well; all of the wavefunctions have a non-zero region outside the well. The wavefunction is sinusoidal inside the well, however it is expoentially decaying outside the well for the states n=1 and n=2 in this case. Where the wavefunctions are mostly, but not entirely inside the well are called bpound states.  For the n=3 case, the energy of the particle is greater than the energy of the well; Efp3>V0; 1387.29178198 eV > 800eV, therefore for this case when we apply the boundary conditions, we find continuous sinusoidal solutions and the energy in this case is not quantised. For this n=3 case, the wavefunction outside the well is longer representing a lower momentum. \n",
    "\n",
    "To summarise the soltions for the finite square well show 2 types of behaviour: \n",
    "1. For n=1 and n=2, E< V0 representing bound states. For this the engery is quantised, and the wavefunctions are largely lociased in the well and there is exponential decay outside the well. \n",
    "2. For n=3, (the particle is not trapped), the engery is not quantised, and the wavefunction is sinusoidal everywhere. \n",
    "\n",
    "The solutions show that the particle can be found outside the well, even if classically its engery wouldn't allow it. This is a uniquely quantum behaviour; quantum tunnelling, when a quantum particle approaches the barrie there is a finite probability that it will tunnel through. "
   ]
  },
  {
   "cell_type": "markdown",
   "metadata": {},
   "source": [
    "###Trying for another potential "
   ]
  },
  {
   "cell_type": "markdown",
   "metadata": {
    "collapsed": true
   },
   "source": [
    "We are now going to try and solve for a rectangular potential Barrier, which is defined by the potential: $$\n",
    "V_x = \\begin{cases} V_0 & \\text{if } -a/2 < x < +a/2, \\\\ \n",
    "    0  & \\text{if } |x| > a/2, \\end{cases} \n",
    "$$"
   ]
  },
  {
   "cell_type": "markdown",
   "metadata": {},
   "source": [
    "It is like the finite potenital well, except the well can be seen to be turned on its head. "
   ]
  },
  {
   "cell_type": "markdown",
   "metadata": {},
   "source": [
    "First we will create a function for the potenital for this: "
   ]
  },
  {
   "cell_type": "code",
   "execution_count": 104,
   "metadata": {
    "collapsed": true
   },
   "outputs": [],
   "source": [
    "#a new function that codes for the rectangular potenital barrier\n",
    "def V3(x):\n",
    "    ''' Produces a value of V=0 x values inside the well and V=V0 for x values outside the well'''\n",
    "    if abs(x) > (a/2):\n",
    "        V3=0\n",
    "    else: \n",
    "        V3=1500*e   #again setting the value of V0 to 1600*e as a rough estimate \n",
    "    return V3"
   ]
  },
  {
   "cell_type": "code",
   "execution_count": 105,
   "metadata": {
    "collapsed": true
   },
   "outputs": [],
   "source": [
    "#first we need to create an array of the potential values that correspond with our xpoints\n",
    "V3points = [] # initialise empty output array\n",
    "for x in xpoints:\n",
    "    V3points.append(V3(x)) #using the function defined for f(x) to produce f(x) values for given x values "
   ]
  },
  {
   "cell_type": "code",
   "execution_count": 106,
   "metadata": {
    "collapsed": false
   },
   "outputs": [
    {
     "data": {
      "text/plain": [
       "<matplotlib.text.Text at 0x107437b8>"
      ]
     },
     "execution_count": 106,
     "metadata": {},
     "output_type": "execute_result"
    },
    {
     "data": {
      "image/png": "[encoded data removed]",
      "text/plain": [
       "<matplotlib.figure.Figure at 0xf8f9b38>"
      ]
     },
     "metadata": {},
     "output_type": "display_data"
    }
   ],
   "source": [
    "#plotting this new finite square potential \n",
    "plt.plot(xpoints,V3points)\n",
    "plt.xlabel(\"x\")\n",
    "plt.ylabel(\"V3(x)\")\n",
    "plt.title(\"Plot of the rectangular potential barrier\")"
   ]
  },
  {
   "cell_type": "markdown",
   "metadata": {},
   "source": [
    "As you can see the step of the potential well is eqaul to V0 which we have again set to 800e. "
   ]
  },
  {
   "cell_type": "markdown",
   "metadata": {},
   "source": [
    "We now need to create a new function for the differential eqautions using the new potential defined: "
   ]
  },
  {
   "cell_type": "code",
   "execution_count": 107,
   "metadata": {
    "collapsed": true
   },
   "outputs": [],
   "source": [
    "#creating a function for the rhs of the equations (1) and (2)\n",
    "def frb(r,x,E):\n",
    "    ''' Definition of our numerical function\n",
    "    Inputs:\n",
    "    r: vector where 1st element represnts psi and the 2nd phi \n",
    "    x: value of x at which to evaulate the function\n",
    "    E: energy value at which the function is evaluated\n",
    "    Outputs:\n",
    "    f(psi,phi): returns 2 arrays, one for each rhs of the equation '''\n",
    "    psi= r[0]  \n",
    "    phi=r[1]\n",
    "    f1=phi    # dψ/dt = φ\n",
    "    f2=((2*m)/(hbar**2))*(V3(x)-E)*psi #dφ/dt = 2m/ћ^2[V(x)-E]ψ(x)\n",
    "    return  np.array([f1,f2], float) #returns the 2 rhs of the equations "
   ]
  },
  {
   "cell_type": "markdown",
   "metadata": {},
   "source": [
    "Again we need to adapt the RungeKutta2d used before that implements our new frb function with the new rectangular barrier potenital: "
   ]
  },
  {
   "cell_type": "code",
   "execution_count": 108,
   "metadata": {
    "collapsed": true
   },
   "outputs": [],
   "source": [
    "def RungeKutta2drb(r,xpoints, E):\n",
    "    '''Fourth-order Runge Kutta rewritten for two simultaneous equations\n",
    "    Inputs: \n",
    "    r: vector where 1st component is psi and 2nd is phi\n",
    "    xpoints: an array of x-values\n",
    "    Also depends on step h (global variable)\n",
    "    Outputs: solutions for psi(x) and phi(x)'''\n",
    "    \n",
    "    psipoints = [] # a new array for the  results\n",
    "    phipoints=[]\n",
    "    \n",
    "    for x in xpoints:\n",
    "        psipoints.append(r[0]) \n",
    "        phipoints.append(r[1])\n",
    "        k1 = h*frb(r,x,E)     \n",
    "        k2 = h*frb(r+0.5*k1, x+0.5*h, E)\n",
    "        k3 = h*frb(r+0.5*k2, x+0.5*h, E)\n",
    "        k4 = h*frb(r+k3, x+h,E)\n",
    "        r = r + (k1 + 2*k2 + 2*k3 + k4)/6\n",
    "    # these next two lines calculate for the point at x = xend!\n",
    "    psipoints.append(r[0]) \n",
    "    phipoints.append(r[1])\n",
    "    return np.array([psipoints, phipoints]) # convert output to numpy array with 2 rows and N columns"
   ]
  },
  {
   "cell_type": "markdown",
   "metadata": {},
   "source": [
    "Now we will also need to adapt our function that implements the Secant method, by renaming it and using the new RungeKutta2drb:"
   ]
  },
  {
   "cell_type": "code",
   "execution_count": 109,
   "metadata": {
    "collapsed": true
   },
   "outputs": [],
   "source": [
    "def Sec3(Ea,Eb):\n",
    "    '''Calculates the value of E that gives us the required solution. \n",
    "    Inputs:\n",
    "    Ea: 1st initial guess engery \n",
    "    Eb: 2nd initial guess engery \n",
    "    Outputs: \n",
    "    Ec/e: The best guess of the root, the energy in eV '''\n",
    "    tolerance = e/1000 \n",
    "    err=1  # initialise the error variable\n",
    "    #solving for the guesses\n",
    "    psia= RungeKutta2drb(r,xpoints, Ea)[0,N] # only interested in the final value calculated by the function\n",
    "    psib= RungeKutta2drb(r,xpoints, Eb)[0,N]\n",
    "    #using the secant method to converge on the right answer\n",
    "    #Iterate the secant method:\n",
    "    while err > tolerance: \n",
    "        Ec = Eb - psib*(Eb-Ea)/(psib-psia)\n",
    "        \n",
    "        err = abs(Eb-Ea) \n",
    "        Ea = Eb # reset x1 and x2\n",
    "        Eb = Ec # for the next iteration\n",
    "        #and recalculate the solutions \n",
    "        psia= RungeKutta2drb(r,xpoints, Ea)[0,N]\n",
    "        psib= RungeKutta2drb(r,xpoints, Eb)[0,N]                    \n",
    "    return Ec"
   ]
  },
  {
   "cell_type": "markdown",
   "metadata": {},
   "source": [
    "Can now use this to find the best guess of our energies, we will try to find the roots for when n=1,2 and 3:"
   ]
  },
  {
   "cell_type": "code",
   "execution_count": 110,
   "metadata": {
    "collapsed": false
   },
   "outputs": [
    {
     "name": "stdout",
     "output_type": "stream",
     "text": [
      "The best guess of the energy is 409.954438198 eV  For when n=1\n",
      "The best guess of the energy is 1441.53050018 eV  For when n=2\n",
      "The best guess of the energy is 1752.35473581 eV  For when n=3\n"
     ]
    }
   ],
   "source": [
    "#using the function to calculate the different values of the energy \n",
    "Enrb1=Sec3(350*e,450*e)  #initial guesses for the energy when n=1 when there is a harmonic potential\n",
    "Enrb2=Sec3(600*e,1000*e)\n",
    "Enrb3=Sec3(1500*e,2000*e)\n",
    "\n",
    "\n",
    "print \"The best guess of the energy is\", Enrb1/e, \"eV  For when n=1\"\n",
    "print \"The best guess of the energy is\", Enrb2/e, \"eV  For when n=2\"\n",
    "print \"The best guess of the energy is\", Enrb3/e, \"eV  For when n=3\"\n",
    "\n"
   ]
  },
  {
   "cell_type": "markdown",
   "metadata": {},
   "source": [
    "For the inital guesses as I was unsure of the solution, the initial guesses used for Enrb1 were those before of 20e, and 45e using those the solution was 409.954438198 eV, therefore I changed my inital guesses to 350*e and 450*e (as seen above). This gave me an indication of the initial guesses I should use for the n=2 and n=3 engery states. "
   ]
  },
  {
   "cell_type": "markdown",
   "metadata": {},
   "source": [
    "Now we can find the corresponding wavefunctions and normalise them, for this rectangular potential barrier. "
   ]
  },
  {
   "cell_type": "code",
   "execution_count": 111,
   "metadata": {
    "collapsed": true
   },
   "outputs": [],
   "source": [
    "#the wavefunctions are found using the RungeKutta2drb\n",
    "Psirb1=RungeKutta2drb(r,xpoints,Enrb1)[0]  #the wavefunction found numerically for when n=1\n",
    "Psirb2=RungeKutta2drb(r,xpoints,Enrb2)[0]\n",
    "Psirb3=RungeKutta2drb(r,xpoints,Enrb3)[0]\n",
    "\n",
    "#normalising these wavefunctions using the normalsation constant function \n",
    "Psirb1N=Normcon(Psirb1)*Psirb1  #normalised wavefunction= normalisation constant*the wavefunction \n",
    "Psirb2N=Normcon(Psirb2)*Psirb2    \n",
    "Psirb3N=Normcon(Psirb3)*Psirb3"
   ]
  },
  {
   "cell_type": "markdown",
   "metadata": {},
   "source": [
    "Again we can plot these numerical solutions, and analyse them: "
   ]
  },
  {
   "cell_type": "code",
   "execution_count": 113,
   "metadata": {
    "collapsed": false
   },
   "outputs": [
    {
     "data": {
      "text/plain": [
       "<matplotlib.text.Text at 0x1092de48>"
      ]
     },
     "execution_count": 113,
     "metadata": {},
     "output_type": "execute_result"
    },
    {
     "data": {
      "image/png": "[encoded data removed]",
      "text/plain": [
       "<matplotlib.figure.Figure at 0x10aa5390>"
      ]
     },
     "metadata": {},
     "output_type": "display_data"
    }
   ],
   "source": [
    "#plotting the normalised wavefunctions for different energy states\n",
    "plt.plot(xpoints,Psirb1N[1:],'r-', label='n=1 ')\n",
    "plt.plot(xpoints,Psirb2N[1:],'b-', label='n=2 ')\n",
    "plt.plot(xpoints,Psirb3N[1:],'g-', label='n=3 ')\n",
    "\n",
    "# construct the boundary\n",
    "plt.axvline(x=a/2,c='k',ls='-',lw=2)\n",
    "plt.axvline(x=-a/2,c='k',ls='-',lw=2)\n",
    "\n",
    "#labelling the plot \n",
    "plt.legend(loc='lower left')\n",
    "plt.title(\"Numerical solutions for various state engergies when there is a Harmonic potential\")\n",
    "plt.xlabel(\"x\")\n",
    "plt.ylabel(\"psi(x)\")"
   ]
  },
  {
   "cell_type": "markdown",
   "metadata": {},
   "source": [
    "Physics behind these soltions/explaining the wavefunctions:\n",
    "\n",
    "For this rectangular barrier potenital, there are again 2 situations that are demonstrated in the above plot. The 1st for n=1 where E< V0 (could represent an alpha decay). If the particle is approaching the potential barrier from the right hand side, we see sinusodial wavefunction until it reaches the barrier, and then expoentitial decay. This represents that the probability of finding the particle on the other side of the barrier is very small, however there is still a small chance because of the quantum tunnelling. For the n=3 case where the E> V0 (e.g e+ scattering from positive ion ) there is always a sinusoidal wavefunction. The amptiude of the wavfunction is the greatest inside the potential barrier representing the increased probability of finding the particle there. For the n=2 case the E is almost equal to the V0 and I am uncertain of the findings. There seems to be sinusoidal wavefunction either side of the barrier as in the n=3 case, but then a somewhat decayed/decreased wavefunction as in the n=1 case, this could illustrate that there is equal prbablity of finiding the particle ouside either side of the barrier. For n=1 particle is most likey found before reaching the barrier (rhs) and for n=3 most likely to go through the barrier and be found inside the rectangular barrier. "
   ]
  },
  {
   "cell_type": "markdown",
   "metadata": {},
   "source": [
    "### Breif discussion"
   ]
  },
  {
   "cell_type": "markdown",
   "metadata": {},
   "source": [
    "Overall this notebook seems to show a succefull code that can be adapted to solve the TISE for different potentials using a numerical method. We have been able to find the energy values for different values of n by making 2 inital guesses and using the Secant method and the RungeKutta2d function. This allowed us to find wavefunction solutions for different values of n. The wavefunctions showed general agreement with analytical solutions (when there was one), only seeming to differ on being a reflection along the xaxis (still unsure of the reason for this). The plots of the wavefunction solutions demonstrated certain important physics phenomeon such as quantum tunnelling and corespondance theorem. The assigment overall was generally intresting, especially when looking at different potentials where analytical solutions were much longer or not available. It would be intresting to futher extend the code for solutions to the time dependant Schrodinger equation, if that is possible. "
   ]
  },
  {
   "cell_type": "code",
   "execution_count": null,
   "metadata": {
    "collapsed": true
   },
   "outputs": [],
   "source": []
  }
 ],
 "metadata": {
  "kernelspec": {
   "display_name": "Python 2",
   "language": "python",
   "name": "python2"
  },
  "language_info": {
   "codemirror_mode": {
    "name": "ipython",
    "version": 2
   },
   "file_extension": ".py",
   "mimetype": "text/x-python",
   "name": "python",
   "nbconvert_exporter": "python",
   "pygments_lexer": "ipython2",
   "version": "2.7.10"
  }
 },
 "nbformat": 4,
 "nbformat_minor": 0
}
